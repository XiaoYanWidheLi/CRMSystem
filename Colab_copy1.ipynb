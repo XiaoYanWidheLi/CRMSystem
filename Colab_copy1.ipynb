{
  "nbformat": 4,
  "nbformat_minor": 0,
  "metadata": {
    "colab": {
      "provenance": [],
      "authorship_tag": "ABX9TyPdARZ8wuUms/4HE+otSm75",
      "include_colab_link": true
    },
    "kernelspec": {
      "name": "python3",
      "display_name": "Python 3"
    },
    "language_info": {
      "name": "python"
    }
  },
  "cells": [
    {
      "cell_type": "markdown",
      "metadata": {
        "id": "view-in-github",
        "colab_type": "text"
      },
      "source": [
        "<a href=\"https://colab.research.google.com/github/XiaoYanWidheLi/CRMSystem/blob/main/Colab_copy1.ipynb\" target=\"_parent\"><img src=\"https://colab.research.google.com/assets/colab-badge.svg\" alt=\"Open In Colab\"/></a>"
      ]
    },
    {
      "cell_type": "code",
      "execution_count": null,
      "metadata": {
        "id": "wnkk3ElD8KWj"
      },
      "outputs": [],
      "source": []
    },
    {
      "cell_type": "markdown",
      "source": [
        "hi and welcome\n"
      ],
      "metadata": {
        "id": "ePLN3V5H-HqF"
      }
    },
    {
      "cell_type": "code",
      "source": [
        "#create variable called.. and assign value of 3 to it\n",
        "num_1=3\n",
        "#get value in valiable num_1 and print it to terminal\n",
        "print(num_1)\n",
        "type(num_1)\n",
        "print(type(num_1))\n",
        "num_1 = \"3\"\n",
        "type(num_1)\n",
        "num_1=\"Ammar\"\n",
        "print(num_1)\n",
        "#Read in value from user\n",
        "my_age=input(\"pls input your name:\")\n",
        "type(my_age)\n",
        "print(my_age)\n",
        "\n"
      ],
      "metadata": {
        "colab": {
          "base_uri": "https://localhost:8080/",
          "height": 418
        },
        "id": "T4ay555r-cuB",
        "outputId": "a1974020-ca2f-4037-abbc-fd9a9cb57c2f"
      },
      "execution_count": null,
      "outputs": [
        {
          "output_type": "stream",
          "name": "stdout",
          "text": [
            "3\n",
            "<class 'int'>\n",
            "Ammar\n"
          ]
        },
        {
          "output_type": "error",
          "ename": "KeyboardInterrupt",
          "evalue": "Interrupted by user",
          "traceback": [
            "\u001b[0;31m---------------------------------------------------------------------------\u001b[0m",
            "\u001b[0;31mKeyboardInterrupt\u001b[0m                         Traceback (most recent call last)",
            "\u001b[0;32m<ipython-input-21-6a1369d19d73>\u001b[0m in \u001b[0;36m<cell line: 12>\u001b[0;34m()\u001b[0m\n\u001b[1;32m     10\u001b[0m \u001b[0mprint\u001b[0m\u001b[0;34m(\u001b[0m\u001b[0mnum_1\u001b[0m\u001b[0;34m)\u001b[0m\u001b[0;34m\u001b[0m\u001b[0;34m\u001b[0m\u001b[0m\n\u001b[1;32m     11\u001b[0m \u001b[0;31m#Read in value from user\u001b[0m\u001b[0;34m\u001b[0m\u001b[0;34m\u001b[0m\u001b[0m\n\u001b[0;32m---> 12\u001b[0;31m \u001b[0mmy_age\u001b[0m\u001b[0;34m=\u001b[0m\u001b[0minput\u001b[0m\u001b[0;34m(\u001b[0m\u001b[0;34m\"pls input your name:\"\u001b[0m\u001b[0;34m)\u001b[0m\u001b[0;34m\u001b[0m\u001b[0;34m\u001b[0m\u001b[0m\n\u001b[0m\u001b[1;32m     13\u001b[0m \u001b[0mtype\u001b[0m\u001b[0;34m(\u001b[0m\u001b[0mmy_age\u001b[0m\u001b[0;34m)\u001b[0m\u001b[0;34m\u001b[0m\u001b[0;34m\u001b[0m\u001b[0m\n\u001b[1;32m     14\u001b[0m \u001b[0mprint\u001b[0m\u001b[0;34m(\u001b[0m\u001b[0mmy_age\u001b[0m\u001b[0;34m)\u001b[0m\u001b[0;34m\u001b[0m\u001b[0;34m\u001b[0m\u001b[0m\n",
            "\u001b[0;32m/usr/local/lib/python3.10/dist-packages/ipykernel/kernelbase.py\u001b[0m in \u001b[0;36mraw_input\u001b[0;34m(self, prompt)\u001b[0m\n\u001b[1;32m    849\u001b[0m                 \u001b[0;34m\"raw_input was called, but this frontend does not support input requests.\"\u001b[0m\u001b[0;34m\u001b[0m\u001b[0;34m\u001b[0m\u001b[0m\n\u001b[1;32m    850\u001b[0m             )\n\u001b[0;32m--> 851\u001b[0;31m         return self._input_request(str(prompt),\n\u001b[0m\u001b[1;32m    852\u001b[0m             \u001b[0mself\u001b[0m\u001b[0;34m.\u001b[0m\u001b[0m_parent_ident\u001b[0m\u001b[0;34m,\u001b[0m\u001b[0;34m\u001b[0m\u001b[0;34m\u001b[0m\u001b[0m\n\u001b[1;32m    853\u001b[0m             \u001b[0mself\u001b[0m\u001b[0;34m.\u001b[0m\u001b[0m_parent_header\u001b[0m\u001b[0;34m,\u001b[0m\u001b[0;34m\u001b[0m\u001b[0;34m\u001b[0m\u001b[0m\n",
            "\u001b[0;32m/usr/local/lib/python3.10/dist-packages/ipykernel/kernelbase.py\u001b[0m in \u001b[0;36m_input_request\u001b[0;34m(self, prompt, ident, parent, password)\u001b[0m\n\u001b[1;32m    893\u001b[0m             \u001b[0;32mexcept\u001b[0m \u001b[0mKeyboardInterrupt\u001b[0m\u001b[0;34m:\u001b[0m\u001b[0;34m\u001b[0m\u001b[0;34m\u001b[0m\u001b[0m\n\u001b[1;32m    894\u001b[0m                 \u001b[0;31m# re-raise KeyboardInterrupt, to truncate traceback\u001b[0m\u001b[0;34m\u001b[0m\u001b[0;34m\u001b[0m\u001b[0m\n\u001b[0;32m--> 895\u001b[0;31m                 \u001b[0;32mraise\u001b[0m \u001b[0mKeyboardInterrupt\u001b[0m\u001b[0;34m(\u001b[0m\u001b[0;34m\"Interrupted by user\"\u001b[0m\u001b[0;34m)\u001b[0m \u001b[0;32mfrom\u001b[0m \u001b[0;32mNone\u001b[0m\u001b[0;34m\u001b[0m\u001b[0;34m\u001b[0m\u001b[0m\n\u001b[0m\u001b[1;32m    896\u001b[0m             \u001b[0;32mexcept\u001b[0m \u001b[0mException\u001b[0m \u001b[0;32mas\u001b[0m \u001b[0me\u001b[0m\u001b[0;34m:\u001b[0m\u001b[0;34m\u001b[0m\u001b[0;34m\u001b[0m\u001b[0m\n\u001b[1;32m    897\u001b[0m                 \u001b[0mself\u001b[0m\u001b[0;34m.\u001b[0m\u001b[0mlog\u001b[0m\u001b[0;34m.\u001b[0m\u001b[0mwarning\u001b[0m\u001b[0;34m(\u001b[0m\u001b[0;34m\"Invalid Message:\"\u001b[0m\u001b[0;34m,\u001b[0m \u001b[0mexc_info\u001b[0m\u001b[0;34m=\u001b[0m\u001b[0;32mTrue\u001b[0m\u001b[0;34m)\u001b[0m\u001b[0;34m\u001b[0m\u001b[0;34m\u001b[0m\u001b[0m\n",
            "\u001b[0;31mKeyboardInterrupt\u001b[0m: Interrupted by user"
          ]
        }
      ]
    },
    {
      "cell_type": "code",
      "source": [
        "\"\"\"\n",
        "+,-,*,/,//,%\n",
        "\"\"\"\n",
        "input_value1=input(\"input a number:\")\n",
        "input_value2=input(\"input another number:\")\n",
        "\n",
        "num1= int(input_value1)\n",
        "num2= int(input_value2)\n",
        "\n",
        "result1 = num1+num2\n",
        "result2 = num1-num2\n",
        "result3 = num1*num2\n",
        "result4 = num1/num2\n",
        "result5 = num1//num2\n",
        "result6 = num1%num2\n",
        "\n",
        "print(result1,result2,result3,result4,result5,result6)"
      ],
      "metadata": {
        "colab": {
          "base_uri": "https://localhost:8080/"
        },
        "id": "_ohmrQa5M_hm",
        "outputId": "d4b91a56-36da-4ef2-d51f-3227223fed3b"
      },
      "execution_count": null,
      "outputs": [
        {
          "output_type": "stream",
          "name": "stdout",
          "text": [
            "input a number:5\n",
            "input another number:2\n",
            "7 3 10 2.5 2 1\n"
          ]
        }
      ]
    },
    {
      "cell_type": "code",
      "source": [
        "#read in first number.and 3- castin to Integer\n",
        "num_1=int(input(\"[?]plz enter your first integer: \"))\n",
        "num_2=int(input(\"[?]plz enter your second integer: \"))\n",
        "\n",
        "#to show output as operation result\n",
        "#we should calcualte each operation result\n",
        "add = num_1 +num_2\n",
        "sub = num_1 -num_2\n",
        "multi = num_1 *num_2\n",
        "divide = num_1 /num_2\n",
        "floor = num_1 //num_2\n",
        "mod = num_1 %num_2\n",
        "\n",
        "#print the result\n",
        "print(num_1, \"+\",num_2,\"=\",add)"
      ],
      "metadata": {
        "colab": {
          "base_uri": "https://localhost:8080/"
        },
        "id": "idFpN7L4gSp-",
        "outputId": "ed93d327-3dc6-4015-9a03-fc6119c03082"
      },
      "execution_count": null,
      "outputs": [
        {
          "output_type": "stream",
          "name": "stdout",
          "text": [
            "[?]plz enter your first integer: 2\n",
            "[?]plz enter your second integer: 3\n",
            "2 + 3 = 5\n"
          ]
        }
      ]
    },
    {
      "cell_type": "code",
      "source": [],
      "metadata": {
        "id": "DNpqNqlzE7SC"
      },
      "execution_count": null,
      "outputs": []
    },
    {
      "cell_type": "code",
      "source": [
        "#F-String\n",
        "#f\"here we can mix between real text and variables values\"\n",
        "my_f_string_output = f\"first_num = {num_1} + sec_num = {num_2} = {num_1+num_2}\"\n",
        "print(my_f_string_output)"
      ],
      "metadata": {
        "colab": {
          "base_uri": "https://localhost:8080/"
        },
        "id": "WWwnr38tlHZ9",
        "outputId": "26f9c81f-8ed4-46e2-a739-28b7d2440ebe"
      },
      "execution_count": null,
      "outputs": [
        {
          "output_type": "stream",
          "name": "stdout",
          "text": [
            "first_num = 2 + sec_num = 3 = 5\n"
          ]
        }
      ]
    },
    {
      "cell_type": "code",
      "source": [],
      "metadata": {
        "id": "LQMgw_g6oqcu"
      },
      "execution_count": null,
      "outputs": []
    },
    {
      "cell_type": "code",
      "source": [
        "print(f\"{num_1} + {num_2} = {num_1 +num_2}\")\n",
        "print(f\"{num_1} - {num_2} = {num_1 -num_2}\")\n",
        "print(f\"{num_1} * {num_2} = {num_1 *num_2}\")\n",
        "print(f\"{num_1} / {num_2} = {num_1 /num_2}\")\n",
        "print(f\"{num_1} // {num_2} = {num_1 //num_2}\")\n",
        "print(f\"{num_1} % {num_2} = {num_1 %num_2}\")"
      ],
      "metadata": {
        "colab": {
          "base_uri": "https://localhost:8080/"
        },
        "id": "TPJscVWYn4kY",
        "outputId": "edc02cfa-4fe7-497e-90e9-c20c369e52b4"
      },
      "execution_count": null,
      "outputs": [
        {
          "output_type": "stream",
          "name": "stdout",
          "text": [
            "2 + 3 = 5\n",
            "2 - 3 = -1\n",
            "2 * 3 = 6\n",
            "2 / 3 = 0.6666666666666666\n",
            "2 // 3 = 0\n",
            "2 % 3 = 2\n"
          ]
        }
      ]
    },
    {
      "cell_type": "code",
      "source": [
        "name = input(\"what is your name? \")\n",
        "age = input(\"how old are you? \")\n",
        "year = input(\"which year were you born? \")\n",
        "\n",
        "print(f\"My name is {name}, i'm {age} years old and i was born in {year}\")"
      ],
      "metadata": {
        "colab": {
          "base_uri": "https://localhost:8080/"
        },
        "id": "8oEtGrgisSWn",
        "outputId": "e6eb6024-af6d-49fd-ac2f-c5bcda092509"
      },
      "execution_count": null,
      "outputs": [
        {
          "output_type": "stream",
          "name": "stdout",
          "text": [
            "what is your name? Yanyan\n",
            "how old are you? 40\n",
            "which year were you born? 1984\n",
            "My name is Yanyan, i'm 40 years old and i was born in 1984\n"
          ]
        }
      ]
    },
    {
      "cell_type": "code",
      "source": [
        "name = input(\"what is your name? \")\n"
      ],
      "metadata": {
        "colab": {
          "base_uri": "https://localhost:8080/"
        },
        "id": "S8Db5zisZgTE",
        "outputId": "abd677fa-eea8-4514-bc4c-3ecb04e40275"
      },
      "execution_count": null,
      "outputs": [
        {
          "name": "stdout",
          "output_type": "stream",
          "text": [
            "what is your name? 1\n"
          ]
        }
      ]
    },
    {
      "cell_type": "code",
      "source": [
        "my_number = \"0123456789\"\n",
        "print(my_number[::-1])"
      ],
      "metadata": {
        "colab": {
          "base_uri": "https://localhost:8080/"
        },
        "id": "XRZl7sg6E9hq",
        "outputId": "265bfd4f-92be-488c-efe0-eea4c402d1b1"
      },
      "execution_count": null,
      "outputs": [
        {
          "output_type": "stream",
          "name": "stdout",
          "text": [
            "9876543210\n"
          ]
        }
      ]
    },
    {
      "cell_type": "code",
      "source": [
        "input_string=input(\"Enter en string: \")\n",
        "for index in range(len(input_string)):\n",
        "    char=input_string[index]\n",
        "    print(f\"char@ index#{index} is {char}\")\n",
        "print(\"-> end of loop\")"
      ],
      "metadata": {
        "colab": {
          "base_uri": "https://localhost:8080/"
        },
        "id": "HaLtfXHkONja",
        "outputId": "939a42f2-5116-4c4d-967f-4486dd847146"
      },
      "execution_count": null,
      "outputs": [
        {
          "output_type": "stream",
          "name": "stdout",
          "text": [
            "Enter en string: python\n",
            "char@ index#0 is p\n",
            "char@ index#1 is y\n",
            "char@ index#2 is t\n",
            "char@ index#3 is h\n",
            "char@ index#4 is o\n",
            "char@ index#5 is n\n",
            "-> end of loop\n"
          ]
        }
      ]
    },
    {
      "cell_type": "code",
      "source": [
        "input_string = input(\"Enter a string: \")\n",
        "for index in range(len(input_string)):\n",
        "    char = input_string[index]  # Use square brackets to access characters by index\n",
        "    print(f\"char@ index#{index} is {char}\")\n",
        "print(\"-> end of loop\")\n"
      ],
      "metadata": {
        "colab": {
          "base_uri": "https://localhost:8080/"
        },
        "id": "MNaDByX8uGoN",
        "outputId": "2d85b8b7-a3f4-41ec-f416-26328293253c"
      },
      "execution_count": null,
      "outputs": [
        {
          "output_type": "stream",
          "name": "stdout",
          "text": [
            "Enter a string: python\n",
            "char@ index#0 is p\n",
            "char@ index#1 is y\n",
            "char@ index#2 is t\n",
            "char@ index#3 is h\n",
            "char@ index#4 is o\n",
            "char@ index#5 is n\n",
            "-> end of loop\n"
          ]
        }
      ]
    },
    {
      "cell_type": "code",
      "source": [
        "String1 = input(\"Write your first string:\")\n",
        "String2 = input(\"Write your second string:\")\n",
        "print(f\"{len(String1)},{len(String2)},{len(String1)}+{len(String2)}\")\n"
      ],
      "metadata": {
        "colab": {
          "base_uri": "https://localhost:8080/"
        },
        "id": "C27Z_zzn6yQA",
        "outputId": "2e4303dc-2a07-4478-b188-176c745e802f"
      },
      "execution_count": null,
      "outputs": [
        {
          "output_type": "stream",
          "name": "stdout",
          "text": [
            "Write your first string:i\n",
            "Write your second string:love\n",
            "1,4,1+4\n"
          ]
        }
      ]
    },
    {
      "cell_type": "code",
      "source": [
        "String = input(\"Write a string: \")\n",
        "\n",
        "if len(String) < 2:\n",
        "   print(\"Empty String\")\n",
        "else:\n",
        "   print(f\"{String[:2]},{String[-2:]}\")"
      ],
      "metadata": {
        "colab": {
          "base_uri": "https://localhost:8080/"
        },
        "id": "CMsBaoYG9KHX",
        "outputId": "fec5fcb2-a952-400e-ae19-e99cd9e9058e"
      },
      "execution_count": null,
      "outputs": [
        {
          "output_type": "stream",
          "name": "stdout",
          "text": [
            "Write a string: jenni\n",
            "je,ni\n"
          ]
        }
      ]
    },
    {
      "cell_type": "code",
      "source": [
        "string1=input(\"First string: \")\n",
        "string2 = input(\"Seond string \")\n",
        "\n",
        "print(string2[:2]+string1[2:],string1[:2]+string2[2:])"
      ],
      "metadata": {
        "colab": {
          "base_uri": "https://localhost:8080/"
        },
        "id": "hBSVo-PLIZjf",
        "outputId": "0e9df417-7c23-4f94-d698-4a8598215b84"
      },
      "execution_count": null,
      "outputs": [
        {
          "output_type": "stream",
          "name": "stdout",
          "text": [
            "First string: jenni\n",
            "Seond string xiaoyan\n",
            "xinni jeaoyan\n"
          ]
        }
      ]
    },
    {
      "cell_type": "code",
      "source": [
        "string =input(\"Give a string: \")\n",
        "print(string[len(string)-1]+string[1:len(string)-1]+string[0])"
      ],
      "metadata": {
        "colab": {
          "base_uri": "https://localhost:8080/"
        },
        "id": "-Ve_vEZsOUM6",
        "outputId": "71ba7f17-b39f-43a3-9976-71d827d652fd"
      },
      "execution_count": null,
      "outputs": [
        {
          "output_type": "stream",
          "name": "stdout",
          "text": [
            "Give a string: jenni\n",
            "iennj\n"
          ]
        }
      ]
    },
    {
      "cell_type": "code",
      "source": [
        "string=input(\"Give one string: \")\n",
        "dictionary ={char: char_count}\n",
        "def char_count(string):\n",
        "    char_count={}\n",
        "    for char in string:\n",
        "        if char in char_count:\n",
        "           char_count +=1\n",
        "        else:\n",
        "            char_count = 1\n",
        "    return char_count\n",
        "result = char_count(string)\n",
        "\n",
        "for char char:count in dictionary"
      ],
      "metadata": {
        "colab": {
          "base_uri": "https://localhost:8080/",
          "height": 358
        },
        "id": "DGFaIctm4Z_V",
        "outputId": "11d33dcd-9062-4c1c-9a03-8f8d7858408b"
      },
      "execution_count": null,
      "outputs": [
        {
          "name": "stdout",
          "output_type": "stream",
          "text": [
            "Give one string: char\n"
          ]
        },
        {
          "output_type": "error",
          "ename": "TypeError",
          "evalue": "argument of type 'int' is not iterable",
          "traceback": [
            "\u001b[0;31m---------------------------------------------------------------------------\u001b[0m",
            "\u001b[0;31mTypeError\u001b[0m                                 Traceback (most recent call last)",
            "\u001b[0;32m<ipython-input-5-c8865759a9b8>\u001b[0m in \u001b[0;36m<cell line: 11>\u001b[0;34m()\u001b[0m\n\u001b[1;32m      9\u001b[0m             \u001b[0mchar_count\u001b[0m \u001b[0;34m=\u001b[0m \u001b[0;36m1\u001b[0m\u001b[0;34m\u001b[0m\u001b[0;34m\u001b[0m\u001b[0m\n\u001b[1;32m     10\u001b[0m     \u001b[0;32mreturn\u001b[0m \u001b[0mchar_count\u001b[0m\u001b[0;34m\u001b[0m\u001b[0;34m\u001b[0m\u001b[0m\n\u001b[0;32m---> 11\u001b[0;31m \u001b[0mresult\u001b[0m \u001b[0;34m=\u001b[0m \u001b[0mchar_count\u001b[0m\u001b[0;34m(\u001b[0m\u001b[0mstring\u001b[0m\u001b[0;34m)\u001b[0m\u001b[0;34m\u001b[0m\u001b[0;34m\u001b[0m\u001b[0m\n\u001b[0m\u001b[1;32m     12\u001b[0m \u001b[0;34m\u001b[0m\u001b[0m\n\u001b[1;32m     13\u001b[0m \u001b[0mprint\u001b[0m\u001b[0;34m(\u001b[0m\u001b[0mresult\u001b[0m\u001b[0;34m)\u001b[0m\u001b[0;34m\u001b[0m\u001b[0;34m\u001b[0m\u001b[0m\n",
            "\u001b[0;32m<ipython-input-5-c8865759a9b8>\u001b[0m in \u001b[0;36mchar_count\u001b[0;34m(string)\u001b[0m\n\u001b[1;32m      4\u001b[0m     \u001b[0mchar_count\u001b[0m\u001b[0;34m=\u001b[0m\u001b[0;34m{\u001b[0m\u001b[0;34m}\u001b[0m\u001b[0;34m\u001b[0m\u001b[0;34m\u001b[0m\u001b[0m\n\u001b[1;32m      5\u001b[0m     \u001b[0;32mfor\u001b[0m \u001b[0mchar\u001b[0m \u001b[0;32min\u001b[0m \u001b[0mstring\u001b[0m\u001b[0;34m:\u001b[0m\u001b[0;34m\u001b[0m\u001b[0;34m\u001b[0m\u001b[0m\n\u001b[0;32m----> 6\u001b[0;31m         \u001b[0;32mif\u001b[0m \u001b[0mchar\u001b[0m \u001b[0;32min\u001b[0m \u001b[0mchar_count\u001b[0m\u001b[0;34m:\u001b[0m\u001b[0;34m\u001b[0m\u001b[0;34m\u001b[0m\u001b[0m\n\u001b[0m\u001b[1;32m      7\u001b[0m            \u001b[0mchar_count\u001b[0m \u001b[0;34m+=\u001b[0m\u001b[0;36m1\u001b[0m\u001b[0;34m\u001b[0m\u001b[0;34m\u001b[0m\u001b[0m\n\u001b[1;32m      8\u001b[0m         \u001b[0;32melse\u001b[0m\u001b[0;34m:\u001b[0m\u001b[0;34m\u001b[0m\u001b[0;34m\u001b[0m\u001b[0m\n",
            "\u001b[0;31mTypeError\u001b[0m: argument of type 'int' is not iterable"
          ]
        }
      ]
    },
    {
      "cell_type": "code",
      "source": [
        "#Gruppgifter1_A1:count the number of characters (characterfrequency) in a string.\n",
        "#Sample String :google.com'\n",
        "#Expected Result :{'g': 2, 'o': 3, '!': 1,'e': 1,\": 1,'c': 1,'m': 1}\n",
        "\n",
        "def char_count(string):\n",
        "    # Initialize an empty dictionary to store character counts\n",
        "    count = {}\n",
        "    for char in string:\n",
        "        if char in count:\n",
        "            count[char] += 1  # Increment the count if the character is already in the dictionary\n",
        "        else:\n",
        "            count[char] = 1  # Initialize the count to 1 if it's the first occurrence\n",
        "    return count\n",
        "\n",
        "# Prompt the user to input a string\n",
        "string = input(\"Give one string: \")\n",
        "\n",
        "# Call the char_count function and store the result in a dictionary\n",
        "dict = char_count(string)\n",
        "\n",
        "# Loop through the dictionary and print each character and its count\n",
        "for char, count in dict.items():\n",
        "    print(f\"{char}: {count}\")\n"
      ],
      "metadata": {
        "colab": {
          "base_uri": "https://localhost:8080/"
        },
        "id": "Tgqf8EyM-m06",
        "outputId": "680ca178-593f-4a8d-9a45-427ade8d8e4f"
      },
      "execution_count": null,
      "outputs": [
        {
          "output_type": "stream",
          "name": "stdout",
          "text": [
            "Give one string:  Google\n",
            " : 1\n",
            "G: 1\n",
            "o: 2\n",
            "g: 1\n",
            "l: 1\n",
            "e: 1\n"
          ]
        }
      ]
    },
    {
      "cell_type": "code",
      "source": [
        "#Gruppgifter1_A1:count the number of characters (characterfrequency) in a string.\n",
        "#Sample String :google.com'\n",
        "#Expected Result :{'g': 2, 'o': 3, '!': 1,'e': 1,\": 1,'c': 1,'m': 1}\n",
        "# Prompt the user to input a word\n",
        "word = input(\"Enter a word\")\n",
        "\n",
        "# Convert the entire word to lowercase to handle case-insensitivity\n",
        "word = word.lower()\n",
        "\n",
        "# Define a list containing all lowercase letters of the alphabet\n",
        "Alphabet = ['a', 'b', 'c', 'd', 'e', 'f', 'g', 'h', 'i', 'j', 'k', 'l', 'm', 'n', 'o', 'p', 'q', 'r', 's', 't', 'u', 'v', 'w', 'x', 'y', 'z']\n",
        "\n",
        "# Iterate through each index from 0 to 25 (which corresponds to each letter in the alphabet)\n",
        "for i in range(0, 26):\n",
        "    # Get the current letter from the Alphabet list using the index\n",
        "    current_letter = Alphabet[i]\n",
        "\n",
        "    # Count how many times the current letter appears in the input word\n",
        "    count = word.count(current_letter)\n",
        "\n",
        "    # If the count is greater than 0, print the letter and its count\n",
        "    if count > 0:\n",
        "        print(f\"{current_letter}: {count}\")\n"
      ],
      "metadata": {
        "colab": {
          "base_uri": "https://localhost:8080/"
        },
        "id": "Azohxt-qCCjC",
        "outputId": "2a5b8727-93ba-487f-ed3d-5bdbb91cd6ea"
      },
      "execution_count": null,
      "outputs": [
        {
          "output_type": "stream",
          "name": "stdout",
          "text": [
            "Enter a wordJenni\n",
            "e: 1\n",
            "i: 1\n",
            "j: 1\n",
            "n: 2\n"
          ]
        }
      ]
    },
    {
      "cell_type": "code",
      "source": [
        "#Gruppgifter1_A2: get a string from a given string\n",
        "#where alloccurrences of its first char have been changed to '$\n",
        "#except the firstchar itself.\n",
        "\n",
        "string=input(\"Give one string: \")\n",
        "#Get the first character:\n",
        "first_char = string[0]\n",
        "#Replace the remaining part & Construct the new string:\n",
        "modified_string= first_char + string[1:].replace(first_char,'$')\n",
        "print(modified_string)"
      ],
      "metadata": {
        "colab": {
          "base_uri": "https://localhost:8080/"
        },
        "id": "F1ba5AF8XRBl",
        "outputId": "7a1ba7ff-9b7d-4fd0-f65f-8a8443b7def2"
      },
      "execution_count": null,
      "outputs": [
        {
          "output_type": "stream",
          "name": "stdout",
          "text": [
            "Give one string: xiaoxiao\n",
            "xiao$iao\n"
          ]
        }
      ]
    },
    {
      "cell_type": "code",
      "source": [
        "#Gruppgifter1_A3:Write a Python function that takes a list of words\n",
        "#and return the longestword and the length of the longest one.\n",
        "\n",
        "# Prompt the user to input a list of words,\n",
        "# split the input string into individual words\n",
        "list = input(\"Give a list of words: \").split()\n",
        "\n",
        "# Initialize an empty list to store the longest words\n",
        "# and a variable to keep track of the maximum length\n",
        "longest_words= []\n",
        "max_length = 0\n",
        "\n",
        "# Iterate over each word in the input list\n",
        "for word in list:\n",
        "    # Print the current word and its length\n",
        "    #(for debugging or informational purposes)\n",
        "    print(word,len(word))\n",
        "\n",
        "    # If the current word's length is greater than the current max_length\n",
        "    if len(word) > max_length:\n",
        "        # Update longest_words to only contain this word (as it is the new longest)\n",
        "        longest_words = [word]\n",
        "        # Update max_length to this word's length\n",
        "        max_length = len(word)\n",
        "    elif len(word) == max_length:\n",
        "        # If the current word's length is equal to max_length, add it to the longest_words list\n",
        "        longest_words.append(word)\n",
        "\n",
        "# Print the longest word(s) and their length\n",
        "print(f\"The longest words: {longest_words}, wordslength: {max_length}\")"
      ],
      "metadata": {
        "id": "KcG-H4q5dQUM",
        "colab": {
          "base_uri": "https://localhost:8080/"
        },
        "outputId": "29fca60f-22f9-40d8-b04a-394721da5bac"
      },
      "execution_count": null,
      "outputs": [
        {
          "output_type": "stream",
          "name": "stdout",
          "text": [
            "Give a list of words: 12 345 345667\n",
            "12 2\n",
            "345 3\n",
            "345667 6\n",
            "The longest words: ['345667'], wordslength: 6\n"
          ]
        }
      ]
    },
    {
      "cell_type": "code",
      "source": [
        " empty_list = list()  #[]\n",
        " my_list=[\"i'am an advance array\",1982,\"Ammar\",\"python\",1,2,3]\n",
        " len(empty_list)\n",
        " len(my_list)"
      ],
      "metadata": {
        "colab": {
          "base_uri": "https://localhost:8080/"
        },
        "id": "kvqTLF7jLrWI",
        "outputId": "09c228cb-c351-44e9-f512-f4b60fb47c6f"
      },
      "execution_count": null,
      "outputs": [
        {
          "output_type": "execute_result",
          "data": {
            "text/plain": [
              "7"
            ]
          },
          "metadata": {},
          "execution_count": 11
        }
      ]
    },
    {
      "cell_type": "code",
      "source": [
        " #grab first element\n",
        " my_list[0]"
      ],
      "metadata": {
        "id": "X2wwbgMJMtRT"
      },
      "execution_count": null,
      "outputs": []
    },
    {
      "cell_type": "code",
      "source": [
        "#grab last element\n",
        "my_list[-1]"
      ],
      "metadata": {
        "colab": {
          "base_uri": "https://localhost:8080/"
        },
        "id": "Vsn75mlBMgP3",
        "outputId": "fee3bac6-45c5-41f6-e4f5-c691d04b6f96"
      },
      "execution_count": null,
      "outputs": [
        {
          "output_type": "execute_result",
          "data": {
            "text/plain": [
              "3"
            ]
          },
          "metadata": {},
          "execution_count": 5
        }
      ]
    },
    {
      "cell_type": "code",
      "source": [
        "print(type(my_list))"
      ],
      "metadata": {
        "colab": {
          "base_uri": "https://localhost:8080/"
        },
        "id": "hfa5Q_oCMzDH",
        "outputId": "a7b9f517-cbec-4bdd-d31b-ec1c87c9fa51"
      },
      "execution_count": null,
      "outputs": [
        {
          "output_type": "stream",
          "name": "stdout",
          "text": [
            "<class 'list'>\n"
          ]
        }
      ]
    },
    {
      "cell_type": "code",
      "source": [
        "for element in my_list:\n",
        "    print(element)"
      ],
      "metadata": {
        "colab": {
          "base_uri": "https://localhost:8080/"
        },
        "id": "UcmoWOnVNd-9",
        "outputId": "f38fef22-3503-4aa1-ff5f-463a7498b035"
      },
      "execution_count": null,
      "outputs": [
        {
          "output_type": "stream",
          "name": "stdout",
          "text": [
            "i'am an advance array\n",
            "1982\n",
            "Ammar\n",
            "python\n",
            "1\n",
            "2\n",
            "3\n"
          ]
        }
      ]
    },
    {
      "cell_type": "code",
      "source": [
        "for index, element in enumerate(my_list):\n",
        "    print(index, element)"
      ],
      "metadata": {
        "colab": {
          "base_uri": "https://localhost:8080/"
        },
        "id": "pIZYH3zaOxnf",
        "outputId": "078ec5f6-2d22-4b36-f812-87bf6b2b3a3b"
      },
      "execution_count": null,
      "outputs": [
        {
          "output_type": "stream",
          "name": "stdout",
          "text": [
            "0 i'am an advance array\n",
            "1 1982\n",
            "2 Ammar\n",
            "3 python\n",
            "4 1\n",
            "5 2\n",
            "6 3\n"
          ]
        }
      ]
    },
    {
      "cell_type": "code",
      "source": [
        "my_list.append(\"new element\")\n",
        "my_list"
      ],
      "metadata": {
        "colab": {
          "base_uri": "https://localhost:8080/"
        },
        "id": "f2sL9r2EPOkt",
        "outputId": "14f129ba-4d21-402a-9f6d-b5790c213ee6"
      },
      "execution_count": null,
      "outputs": [
        {
          "output_type": "execute_result",
          "data": {
            "text/plain": [
              "[\"i'am an advance array\", 1982, 'Ammar', 'python', 1, 2, 3, 'new element']"
            ]
          },
          "metadata": {},
          "execution_count": 12
        }
      ]
    },
    {
      "cell_type": "code",
      "source": [
        "my_list.__sizeof__()"
      ],
      "metadata": {
        "colab": {
          "base_uri": "https://localhost:8080/"
        },
        "id": "ghY7vJnUPmk5",
        "outputId": "95139f5b-6bbe-4784-8890-5b6d3f89d174"
      },
      "execution_count": null,
      "outputs": [
        {
          "output_type": "execute_result",
          "data": {
            "text/plain": [
              "104"
            ]
          },
          "metadata": {},
          "execution_count": 13
        }
      ]
    },
    {
      "cell_type": "code",
      "source": [
        "list_int = [1,2,3,4,5,6,7,8]\n",
        "list_int.__sizeof__()\n"
      ],
      "metadata": {
        "colab": {
          "base_uri": "https://localhost:8080/"
        },
        "id": "CmQupYfHTeWn",
        "outputId": "221a7668-bd38-40c8-d8ef-39b895581287"
      },
      "execution_count": null,
      "outputs": [
        {
          "output_type": "execute_result",
          "data": {
            "text/plain": [
              "104"
            ]
          },
          "metadata": {},
          "execution_count": 15
        }
      ]
    },
    {
      "cell_type": "code",
      "source": [
        "empty_list.__sizeof__()"
      ],
      "metadata": {
        "colab": {
          "base_uri": "https://localhost:8080/"
        },
        "id": "EWuT4WKDTygp",
        "outputId": "9deee0b2-6d86-49ca-fb8b-16e07a99cde0"
      },
      "execution_count": null,
      "outputs": [
        {
          "output_type": "execute_result",
          "data": {
            "text/plain": [
              "40"
            ]
          },
          "metadata": {},
          "execution_count": 16
        }
      ]
    },
    {
      "cell_type": "code",
      "source": [
        "del list_int_2\n"
      ],
      "metadata": {
        "id": "oQh6n4yjT3Xa"
      },
      "execution_count": null,
      "outputs": []
    },
    {
      "cell_type": "markdown",
      "source": [
        " new_list = [1,2,3,4,5,6,7,8,9,10]\n",
        " new_list.reverse()\n",
        " new_list"
      ],
      "metadata": {
        "id": "scOABlTLVIOB"
      }
    },
    {
      "cell_type": "code",
      "source": [
        "new_doubleLIst = new_list*2\n",
        "print(new_doubleLIst)"
      ],
      "metadata": {
        "colab": {
          "base_uri": "https://localhost:8080/"
        },
        "id": "OIFjNKgMa6_V",
        "outputId": "5d7535d0-b7eb-4a25-b524-f429c37f83fe"
      },
      "execution_count": null,
      "outputs": [
        {
          "output_type": "stream",
          "name": "stdout",
          "text": [
            "[10, 9, 8, 7, 6, 5, 4, 3, 2, 1, 10, 9, 8, 7, 6, 5, 4, 3, 2, 1]\n"
          ]
        }
      ]
    },
    {
      "cell_type": "code",
      "source": [
        "my_nested_list = ['a','b',['cc','dd',['eee','fff']],'g','h']\n",
        "my_nested_list[-2]\n"
      ],
      "metadata": {
        "colab": {
          "base_uri": "https://localhost:8080/",
          "height": 35
        },
        "id": "1meRTOsXbcd-",
        "outputId": "cbc1bfe3-f209-4ba3-9684-183ee2475149"
      },
      "execution_count": null,
      "outputs": [
        {
          "output_type": "execute_result",
          "data": {
            "text/plain": [
              "'g'"
            ],
            "application/vnd.google.colaboratory.intrinsic+json": {
              "type": "string"
            }
          },
          "metadata": {},
          "execution_count": 19
        }
      ]
    },
    {
      "cell_type": "code",
      "source": [
        "my_nested_list[3]"
      ],
      "metadata": {
        "colab": {
          "base_uri": "https://localhost:8080/",
          "height": 35
        },
        "id": "k9eFsibLd9S6",
        "outputId": "301dcc70-aef1-4296-9583-981b218a4410"
      },
      "execution_count": null,
      "outputs": [
        {
          "output_type": "execute_result",
          "data": {
            "text/plain": [
              "'g'"
            ],
            "application/vnd.google.colaboratory.intrinsic+json": {
              "type": "string"
            }
          },
          "metadata": {},
          "execution_count": 22
        }
      ]
    },
    {
      "cell_type": "code",
      "source": [
        "my_nested_list[2][1]"
      ],
      "metadata": {
        "colab": {
          "base_uri": "https://localhost:8080/",
          "height": 35
        },
        "id": "jSkkeudBeCq4",
        "outputId": "509a1cec-ad92-4d57-ba27-f2a68e72763c"
      },
      "execution_count": null,
      "outputs": [
        {
          "output_type": "execute_result",
          "data": {
            "text/plain": [
              "'dd'"
            ],
            "application/vnd.google.colaboratory.intrinsic+json": {
              "type": "string"
            }
          },
          "metadata": {},
          "execution_count": 21
        }
      ]
    },
    {
      "cell_type": "markdown",
      "source": [
        "my_nested_list[3]"
      ],
      "metadata": {
        "id": "rgW3AegId0oL"
      }
    },
    {
      "cell_type": "markdown",
      "source": [
        "Dictionary"
      ],
      "metadata": {
        "id": "Ve0UDhOSjEna"
      }
    },
    {
      "cell_type": "code",
      "source": [
        "empty_dict= dict()\n",
        "python_hotel = {\"key_1\":\"rum1\",\n",
        "                \"key_2\":\"rum21\",\n",
        "                \"key_master\":[6,7,8],\n",
        "                \"key_reserve\":\"all\"}\n",
        "\n",
        "python_hotel[\"key_2\"]"
      ],
      "metadata": {
        "colab": {
          "base_uri": "https://localhost:8080/",
          "height": 35
        },
        "id": "QZ9fw0wSjIjM",
        "outputId": "1ff99d8d-ca3b-43c4-c1fc-c4254fd1d522"
      },
      "execution_count": null,
      "outputs": [
        {
          "output_type": "execute_result",
          "data": {
            "text/plain": [
              "'rum21'"
            ],
            "application/vnd.google.colaboratory.intrinsic+json": {
              "type": "string"
            }
          },
          "metadata": {},
          "execution_count": 33
        }
      ]
    },
    {
      "cell_type": "code",
      "source": [
        "python_hotel[\"key_master\"][-1]"
      ],
      "metadata": {
        "colab": {
          "base_uri": "https://localhost:8080/"
        },
        "id": "4j44ssqkkNhK",
        "outputId": "6d708d22-b687-4fb0-8aab-6515b5174474"
      },
      "execution_count": null,
      "outputs": [
        {
          "output_type": "execute_result",
          "data": {
            "text/plain": [
              "8"
            ]
          },
          "metadata": {},
          "execution_count": 35
        }
      ]
    },
    {
      "cell_type": "code",
      "source": [
        "python_hotel.keys()"
      ],
      "metadata": {
        "colab": {
          "base_uri": "https://localhost:8080/"
        },
        "id": "x10yLZRnmAjD",
        "outputId": "a07d1216-0a8e-41ee-911b-a82999a5e395"
      },
      "execution_count": null,
      "outputs": [
        {
          "output_type": "execute_result",
          "data": {
            "text/plain": [
              "dict_keys(['key_1', 'key_2', 'key_master', 'key_reserve'])"
            ]
          },
          "metadata": {},
          "execution_count": 36
        }
      ]
    },
    {
      "cell_type": "code",
      "source": [
        "python_hotel.values()"
      ],
      "metadata": {
        "colab": {
          "base_uri": "https://localhost:8080/"
        },
        "id": "eiWQiVN2mLJ7",
        "outputId": "31f47e84-3e70-4f78-8d7f-704c8ff6f67c"
      },
      "execution_count": null,
      "outputs": [
        {
          "output_type": "execute_result",
          "data": {
            "text/plain": [
              "dict_values(['rum1', 'rum21', [6, 7, 8], 'all'])"
            ]
          },
          "metadata": {},
          "execution_count": 37
        }
      ]
    },
    {
      "cell_type": "code",
      "source": [
        "type(python_hotel['key_master'])"
      ],
      "metadata": {
        "colab": {
          "base_uri": "https://localhost:8080/"
        },
        "id": "RgwVrn_vmVI_",
        "outputId": "c4400cc3-e9e3-4fd2-f837-4bfe9d620f4d"
      },
      "execution_count": null,
      "outputs": [
        {
          "output_type": "execute_result",
          "data": {
            "text/plain": [
              "list"
            ]
          },
          "metadata": {},
          "execution_count": 40
        }
      ]
    },
    {
      "cell_type": "code",
      "source": [
        "python_hotel.items()"
      ],
      "metadata": {
        "colab": {
          "base_uri": "https://localhost:8080/"
        },
        "id": "mz-OqmHLm6WR",
        "outputId": "0aaf8a20-ab99-46f1-e719-8383a5075946"
      },
      "execution_count": null,
      "outputs": [
        {
          "output_type": "execute_result",
          "data": {
            "text/plain": [
              "dict_items([('key_1', 'rum1'), ('key_2', 'rum21'), ('key_master', [6, 7, 8]), ('key_reserve', 'all')])"
            ]
          },
          "metadata": {},
          "execution_count": 41
        }
      ]
    },
    {
      "cell_type": "code",
      "source": [
        "for k, v in python_hotel.items():\n",
        "    print(python_hotel[k])"
      ],
      "metadata": {
        "colab": {
          "base_uri": "https://localhost:8080/"
        },
        "id": "v79rpHSXmpYD",
        "outputId": "9d9fc807-5596-413f-eb59-6713a6a12ddd"
      },
      "execution_count": null,
      "outputs": [
        {
          "output_type": "stream",
          "name": "stdout",
          "text": [
            "rum1\n",
            "rum21\n",
            "[6, 7, 8]\n",
            "all\n"
          ]
        }
      ]
    },
    {
      "cell_type": "code",
      "source": [
        "for couple in python_hotel.items():\n",
        "    print(couple)"
      ],
      "metadata": {
        "colab": {
          "base_uri": "https://localhost:8080/"
        },
        "id": "cQTNN3NXnPNW",
        "outputId": "281b37a3-1696-4558-a616-9bd13a45dad8"
      },
      "execution_count": null,
      "outputs": [
        {
          "output_type": "stream",
          "name": "stdout",
          "text": [
            "('key_1', 'rum1')\n",
            "('key_2', 'rum21')\n",
            "('key_master', [6, 7, 8])\n",
            "('key_reserve', 'all')\n"
          ]
        }
      ]
    },
    {
      "cell_type": "code",
      "source": [
        "value_from_get = python_hotel.get(\"key_1\")\n",
        "print(value_from_get)"
      ],
      "metadata": {
        "colab": {
          "base_uri": "https://localhost:8080/"
        },
        "id": "7VTLHMaKo-q-",
        "outputId": "10af9f90-109f-4184-d0b7-89ca7825976b"
      },
      "execution_count": null,
      "outputs": [
        {
          "output_type": "stream",
          "name": "stdout",
          "text": [
            "rum1\n"
          ]
        }
      ]
    },
    {
      "cell_type": "code",
      "source": [
        "python_hotel[\"key_1\"]"
      ],
      "metadata": {
        "colab": {
          "base_uri": "https://localhost:8080/",
          "height": 35
        },
        "id": "9mYPp7AipS9W",
        "outputId": "cfa04a4d-bb29-4ad7-d899-9611f3127cef"
      },
      "execution_count": null,
      "outputs": [
        {
          "output_type": "execute_result",
          "data": {
            "text/plain": [
              "'rum1'"
            ],
            "application/vnd.google.colaboratory.intrinsic+json": {
              "type": "string"
            }
          },
          "metadata": {},
          "execution_count": 48
        }
      ]
    },
    {
      "cell_type": "code",
      "source": [
        "help(dict)"
      ],
      "metadata": {
        "colab": {
          "base_uri": "https://localhost:8080/"
        },
        "id": "jInP1O4hohRV",
        "outputId": "761219c8-3bc7-4f6c-dd27-1c3b2bc0f63e"
      },
      "execution_count": null,
      "outputs": [
        {
          "output_type": "stream",
          "name": "stdout",
          "text": [
            "Help on class dict in module builtins:\n",
            "\n",
            "class dict(object)\n",
            " |  dict() -> new empty dictionary\n",
            " |  dict(mapping) -> new dictionary initialized from a mapping object's\n",
            " |      (key, value) pairs\n",
            " |  dict(iterable) -> new dictionary initialized as if via:\n",
            " |      d = {}\n",
            " |      for k, v in iterable:\n",
            " |          d[k] = v\n",
            " |  dict(**kwargs) -> new dictionary initialized with the name=value pairs\n",
            " |      in the keyword argument list.  For example:  dict(one=1, two=2)\n",
            " |  \n",
            " |  Built-in subclasses:\n",
            " |      StgDict\n",
            " |  \n",
            " |  Methods defined here:\n",
            " |  \n",
            " |  __contains__(self, key, /)\n",
            " |      True if the dictionary has the specified key, else False.\n",
            " |  \n",
            " |  __delitem__(self, key, /)\n",
            " |      Delete self[key].\n",
            " |  \n",
            " |  __eq__(self, value, /)\n",
            " |      Return self==value.\n",
            " |  \n",
            " |  __ge__(self, value, /)\n",
            " |      Return self>=value.\n",
            " |  \n",
            " |  __getattribute__(self, name, /)\n",
            " |      Return getattr(self, name).\n",
            " |  \n",
            " |  __getitem__(...)\n",
            " |      x.__getitem__(y) <==> x[y]\n",
            " |  \n",
            " |  __gt__(self, value, /)\n",
            " |      Return self>value.\n",
            " |  \n",
            " |  __init__(self, /, *args, **kwargs)\n",
            " |      Initialize self.  See help(type(self)) for accurate signature.\n",
            " |  \n",
            " |  __ior__(self, value, /)\n",
            " |      Return self|=value.\n",
            " |  \n",
            " |  __iter__(self, /)\n",
            " |      Implement iter(self).\n",
            " |  \n",
            " |  __le__(self, value, /)\n",
            " |      Return self<=value.\n",
            " |  \n",
            " |  __len__(self, /)\n",
            " |      Return len(self).\n",
            " |  \n",
            " |  __lt__(self, value, /)\n",
            " |      Return self<value.\n",
            " |  \n",
            " |  __ne__(self, value, /)\n",
            " |      Return self!=value.\n",
            " |  \n",
            " |  __or__(self, value, /)\n",
            " |      Return self|value.\n",
            " |  \n",
            " |  __repr__(self, /)\n",
            " |      Return repr(self).\n",
            " |  \n",
            " |  __reversed__(self, /)\n",
            " |      Return a reverse iterator over the dict keys.\n",
            " |  \n",
            " |  __ror__(self, value, /)\n",
            " |      Return value|self.\n",
            " |  \n",
            " |  __setitem__(self, key, value, /)\n",
            " |      Set self[key] to value.\n",
            " |  \n",
            " |  __sizeof__(...)\n",
            " |      D.__sizeof__() -> size of D in memory, in bytes\n",
            " |  \n",
            " |  clear(...)\n",
            " |      D.clear() -> None.  Remove all items from D.\n",
            " |  \n",
            " |  copy(...)\n",
            " |      D.copy() -> a shallow copy of D\n",
            " |  \n",
            " |  get(self, key, default=None, /)\n",
            " |      Return the value for key if key is in the dictionary, else default.\n",
            " |  \n",
            " |  items(...)\n",
            " |      D.items() -> a set-like object providing a view on D's items\n",
            " |  \n",
            " |  keys(...)\n",
            " |      D.keys() -> a set-like object providing a view on D's keys\n",
            " |  \n",
            " |  pop(...)\n",
            " |      D.pop(k[,d]) -> v, remove specified key and return the corresponding value.\n",
            " |      \n",
            " |      If the key is not found, return the default if given; otherwise,\n",
            " |      raise a KeyError.\n",
            " |  \n",
            " |  popitem(self, /)\n",
            " |      Remove and return a (key, value) pair as a 2-tuple.\n",
            " |      \n",
            " |      Pairs are returned in LIFO (last-in, first-out) order.\n",
            " |      Raises KeyError if the dict is empty.\n",
            " |  \n",
            " |  setdefault(self, key, default=None, /)\n",
            " |      Insert key with a value of default if key is not in the dictionary.\n",
            " |      \n",
            " |      Return the value for key if key is in the dictionary, else default.\n",
            " |  \n",
            " |  update(...)\n",
            " |      D.update([E, ]**F) -> None.  Update D from dict/iterable E and F.\n",
            " |      If E is present and has a .keys() method, then does:  for k in E: D[k] = E[k]\n",
            " |      If E is present and lacks a .keys() method, then does:  for k, v in E: D[k] = v\n",
            " |      In either case, this is followed by: for k in F:  D[k] = F[k]\n",
            " |  \n",
            " |  values(...)\n",
            " |      D.values() -> an object providing a view on D's values\n",
            " |  \n",
            " |  ----------------------------------------------------------------------\n",
            " |  Class methods defined here:\n",
            " |  \n",
            " |  __class_getitem__(...) from builtins.type\n",
            " |      See PEP 585\n",
            " |  \n",
            " |  fromkeys(iterable, value=None, /) from builtins.type\n",
            " |      Create a new dictionary with keys from iterable and values set to value.\n",
            " |  \n",
            " |  ----------------------------------------------------------------------\n",
            " |  Static methods defined here:\n",
            " |  \n",
            " |  __new__(*args, **kwargs) from builtins.type\n",
            " |      Create and return a new object.  See help(type) for accurate signature.\n",
            " |  \n",
            " |  ----------------------------------------------------------------------\n",
            " |  Data and other attributes defined here:\n",
            " |  \n",
            " |  __hash__ = None\n",
            "\n"
          ]
        }
      ]
    },
    {
      "cell_type": "code",
      "source": [
        "help(list)"
      ],
      "metadata": {
        "colab": {
          "base_uri": "https://localhost:8080/"
        },
        "id": "vTi_MqmaNGvH",
        "outputId": "c442b7b3-3811-4cda-fa25-236bdef49d90"
      },
      "execution_count": null,
      "outputs": [
        {
          "output_type": "stream",
          "name": "stdout",
          "text": [
            "Help on class list in module builtins:\n",
            "\n",
            "class list(object)\n",
            " |  list(iterable=(), /)\n",
            " |  \n",
            " |  Built-in mutable sequence.\n",
            " |  \n",
            " |  If no argument is given, the constructor creates a new empty list.\n",
            " |  The argument must be an iterable if specified.\n",
            " |  \n",
            " |  Methods defined here:\n",
            " |  \n",
            " |  __add__(self, value, /)\n",
            " |      Return self+value.\n",
            " |  \n",
            " |  __contains__(self, key, /)\n",
            " |      Return key in self.\n",
            " |  \n",
            " |  __delitem__(self, key, /)\n",
            " |      Delete self[key].\n",
            " |  \n",
            " |  __eq__(self, value, /)\n",
            " |      Return self==value.\n",
            " |  \n",
            " |  __ge__(self, value, /)\n",
            " |      Return self>=value.\n",
            " |  \n",
            " |  __getattribute__(self, name, /)\n",
            " |      Return getattr(self, name).\n",
            " |  \n",
            " |  __getitem__(...)\n",
            " |      x.__getitem__(y) <==> x[y]\n",
            " |  \n",
            " |  __gt__(self, value, /)\n",
            " |      Return self>value.\n",
            " |  \n",
            " |  __iadd__(self, value, /)\n",
            " |      Implement self+=value.\n",
            " |  \n",
            " |  __imul__(self, value, /)\n",
            " |      Implement self*=value.\n",
            " |  \n",
            " |  __init__(self, /, *args, **kwargs)\n",
            " |      Initialize self.  See help(type(self)) for accurate signature.\n",
            " |  \n",
            " |  __iter__(self, /)\n",
            " |      Implement iter(self).\n",
            " |  \n",
            " |  __le__(self, value, /)\n",
            " |      Return self<=value.\n",
            " |  \n",
            " |  __len__(self, /)\n",
            " |      Return len(self).\n",
            " |  \n",
            " |  __lt__(self, value, /)\n",
            " |      Return self<value.\n",
            " |  \n",
            " |  __mul__(self, value, /)\n",
            " |      Return self*value.\n",
            " |  \n",
            " |  __ne__(self, value, /)\n",
            " |      Return self!=value.\n",
            " |  \n",
            " |  __repr__(self, /)\n",
            " |      Return repr(self).\n",
            " |  \n",
            " |  __reversed__(self, /)\n",
            " |      Return a reverse iterator over the list.\n",
            " |  \n",
            " |  __rmul__(self, value, /)\n",
            " |      Return value*self.\n",
            " |  \n",
            " |  __setitem__(self, key, value, /)\n",
            " |      Set self[key] to value.\n",
            " |  \n",
            " |  __sizeof__(self, /)\n",
            " |      Return the size of the list in memory, in bytes.\n",
            " |  \n",
            " |  append(self, object, /)\n",
            " |      Append object to the end of the list.\n",
            " |  \n",
            " |  clear(self, /)\n",
            " |      Remove all items from list.\n",
            " |  \n",
            " |  copy(self, /)\n",
            " |      Return a shallow copy of the list.\n",
            " |  \n",
            " |  count(self, value, /)\n",
            " |      Return number of occurrences of value.\n",
            " |  \n",
            " |  extend(self, iterable, /)\n",
            " |      Extend list by appending elements from the iterable.\n",
            " |  \n",
            " |  index(self, value, start=0, stop=9223372036854775807, /)\n",
            " |      Return first index of value.\n",
            " |      \n",
            " |      Raises ValueError if the value is not present.\n",
            " |  \n",
            " |  insert(self, index, object, /)\n",
            " |      Insert object before index.\n",
            " |  \n",
            " |  pop(self, index=-1, /)\n",
            " |      Remove and return item at index (default last).\n",
            " |      \n",
            " |      Raises IndexError if list is empty or index is out of range.\n",
            " |  \n",
            " |  remove(self, value, /)\n",
            " |      Remove first occurrence of value.\n",
            " |      \n",
            " |      Raises ValueError if the value is not present.\n",
            " |  \n",
            " |  reverse(self, /)\n",
            " |      Reverse *IN PLACE*.\n",
            " |  \n",
            " |  sort(self, /, *, key=None, reverse=False)\n",
            " |      Sort the list in ascending order and return None.\n",
            " |      \n",
            " |      The sort is in-place (i.e. the list itself is modified) and stable (i.e. the\n",
            " |      order of two equal elements is maintained).\n",
            " |      \n",
            " |      If a key function is given, apply it once to each list item and sort them,\n",
            " |      ascending or descending, according to their function values.\n",
            " |      \n",
            " |      The reverse flag can be set to sort in descending order.\n",
            " |  \n",
            " |  ----------------------------------------------------------------------\n",
            " |  Class methods defined here:\n",
            " |  \n",
            " |  __class_getitem__(...) from builtins.type\n",
            " |      See PEP 585\n",
            " |  \n",
            " |  ----------------------------------------------------------------------\n",
            " |  Static methods defined here:\n",
            " |  \n",
            " |  __new__(*args, **kwargs) from builtins.type\n",
            " |      Create and return a new object.  See help(type) for accurate signature.\n",
            " |  \n",
            " |  ----------------------------------------------------------------------\n",
            " |  Data and other attributes defined here:\n",
            " |  \n",
            " |  __hash__ = None\n",
            "\n"
          ]
        }
      ]
    },
    {
      "cell_type": "code",
      "source": [
        "person = {\"name\":\"Xiaoyan\",\n",
        "          \"last_name\": \"Python\",\n",
        "          \"age\": 42,\n",
        "          \"address\": {\"street\":\"götagatan\",\n",
        "                      \"building_num\":12,\n",
        "                      \"department_num\": 1002,\n",
        "                      \"zip_cod\": 1234,\n",
        "                      \"city\": \"Tranås\"},\n",
        "          \"mobil_num\": \"0700060301\"}"
      ],
      "metadata": {
        "id": "b4v1JxX-p-yH"
      },
      "execution_count": null,
      "outputs": []
    },
    {
      "cell_type": "code",
      "source": [
        "#how to get the value attacjed to \"zip_code\" key\n",
        "person.get(\"address\").get(\"zip_cod\")\n",
        "print(person)"
      ],
      "metadata": {
        "colab": {
          "base_uri": "https://localhost:8080/",
          "height": 180
        },
        "id": "3icjtIgJrT8O",
        "outputId": "bb8a1495-b56b-4f4b-83f0-a49b1ab321d5"
      },
      "execution_count": null,
      "outputs": [
        {
          "output_type": "error",
          "ename": "NameError",
          "evalue": "name 'person' is not defined",
          "traceback": [
            "\u001b[0;31m---------------------------------------------------------------------------\u001b[0m",
            "\u001b[0;31mNameError\u001b[0m                                 Traceback (most recent call last)",
            "\u001b[0;32m<ipython-input-50-2dd0b604978a>\u001b[0m in \u001b[0;36m<cell line: 2>\u001b[0;34m()\u001b[0m\n\u001b[1;32m      1\u001b[0m \u001b[0;31m#how to get the value attacjed to \"zip_code\" key\u001b[0m\u001b[0;34m\u001b[0m\u001b[0;34m\u001b[0m\u001b[0m\n\u001b[0;32m----> 2\u001b[0;31m \u001b[0mperson\u001b[0m\u001b[0;34m.\u001b[0m\u001b[0mget\u001b[0m\u001b[0;34m(\u001b[0m\u001b[0;34m\"address\"\u001b[0m\u001b[0;34m)\u001b[0m\u001b[0;34m.\u001b[0m\u001b[0mget\u001b[0m\u001b[0;34m(\u001b[0m\u001b[0;34m\"zip_cod\"\u001b[0m\u001b[0;34m)\u001b[0m\u001b[0;34m\u001b[0m\u001b[0;34m\u001b[0m\u001b[0m\n\u001b[0m\u001b[1;32m      3\u001b[0m \u001b[0mprint\u001b[0m\u001b[0;34m(\u001b[0m\u001b[0mperson\u001b[0m\u001b[0;34m)\u001b[0m\u001b[0;34m\u001b[0m\u001b[0;34m\u001b[0m\u001b[0m\n",
            "\u001b[0;31mNameError\u001b[0m: name 'person' is not defined"
          ]
        }
      ]
    },
    {
      "cell_type": "code",
      "source": [
        "str(person.get(\"address\").get(\"zip_cod\"))\n",
        "int(person.get(\"address\").get(\"zip_cod\"))"
      ],
      "metadata": {
        "colab": {
          "base_uri": "https://localhost:8080/",
          "height": 144
        },
        "id": "4UsP5xGrsV5_",
        "outputId": "67f43a03-1265-4a48-db72-79901807eacd"
      },
      "execution_count": null,
      "outputs": [
        {
          "output_type": "error",
          "ename": "NameError",
          "evalue": "name 'person' is not defined",
          "traceback": [
            "\u001b[0;31m---------------------------------------------------------------------------\u001b[0m",
            "\u001b[0;31mNameError\u001b[0m                                 Traceback (most recent call last)",
            "\u001b[0;32m<ipython-input-51-34e0bb91bad2>\u001b[0m in \u001b[0;36m<cell line: 1>\u001b[0;34m()\u001b[0m\n\u001b[0;32m----> 1\u001b[0;31m \u001b[0mstr\u001b[0m\u001b[0;34m(\u001b[0m\u001b[0mperson\u001b[0m\u001b[0;34m.\u001b[0m\u001b[0mget\u001b[0m\u001b[0;34m(\u001b[0m\u001b[0;34m\"address\"\u001b[0m\u001b[0;34m)\u001b[0m\u001b[0;34m.\u001b[0m\u001b[0mget\u001b[0m\u001b[0;34m(\u001b[0m\u001b[0;34m\"zip_cod\"\u001b[0m\u001b[0;34m)\u001b[0m\u001b[0;34m)\u001b[0m\u001b[0;34m\u001b[0m\u001b[0;34m\u001b[0m\u001b[0m\n\u001b[0m",
            "\u001b[0;31mNameError\u001b[0m: name 'person' is not defined"
          ]
        }
      ]
    },
    {
      "cell_type": "code",
      "source": [
        "person.get(\"address\").get(\"zip_cod\")%10\n"
      ],
      "metadata": {
        "id": "POHtrq4_seFV"
      },
      "execution_count": null,
      "outputs": []
    },
    {
      "cell_type": "code",
      "source": [
        "# Number of exercises\n",
        "total_exercises = 281\n",
        "\n",
        "# Number of people\n",
        "num_people = 7\n",
        "\n",
        "# Initialize a list to hold the exercises each person gets\n",
        "people_exercises = {i: [] for i in range(1, num_people + 1)}\n",
        "\n",
        "# Distribute the exercises\n",
        "for i in range(1, total_exercises + 1):\n",
        "    person = (i - 1) % num_people + 1\n",
        "    people_exercises[person].append(i)\n",
        "\n",
        "# Print the result\n",
        "for person, exercises in people_exercises.items():\n",
        "    print(f\"Person {person} will get exercises: {exercises}\")\n"
      ],
      "metadata": {
        "colab": {
          "base_uri": "https://localhost:8080/"
        },
        "id": "H73appokoPQI",
        "outputId": "ad8ed7d2-94db-4bc7-8126-3e499a018582"
      },
      "execution_count": null,
      "outputs": [
        {
          "output_type": "stream",
          "name": "stdout",
          "text": [
            "Person 1 will get exercises: [1, 8, 15, 22, 29, 36, 43, 50, 57, 64, 71, 78, 85, 92, 99, 106, 113, 120, 127, 134, 141, 148, 155, 162, 169, 176, 183, 190, 197, 204, 211, 218, 225, 232, 239, 246, 253, 260, 267, 274, 281]\n",
            "Person 2 will get exercises: [2, 9, 16, 23, 30, 37, 44, 51, 58, 65, 72, 79, 86, 93, 100, 107, 114, 121, 128, 135, 142, 149, 156, 163, 170, 177, 184, 191, 198, 205, 212, 219, 226, 233, 240, 247, 254, 261, 268, 275]\n",
            "Person 3 will get exercises: [3, 10, 17, 24, 31, 38, 45, 52, 59, 66, 73, 80, 87, 94, 101, 108, 115, 122, 129, 136, 143, 150, 157, 164, 171, 178, 185, 192, 199, 206, 213, 220, 227, 234, 241, 248, 255, 262, 269, 276]\n",
            "Person 4 will get exercises: [4, 11, 18, 25, 32, 39, 46, 53, 60, 67, 74, 81, 88, 95, 102, 109, 116, 123, 130, 137, 144, 151, 158, 165, 172, 179, 186, 193, 200, 207, 214, 221, 228, 235, 242, 249, 256, 263, 270, 277]\n",
            "Person 5 will get exercises: [5, 12, 19, 26, 33, 40, 47, 54, 61, 68, 75, 82, 89, 96, 103, 110, 117, 124, 131, 138, 145, 152, 159, 166, 173, 180, 187, 194, 201, 208, 215, 222, 229, 236, 243, 250, 257, 264, 271, 278]\n",
            "Person 6 will get exercises: [6, 13, 20, 27, 34, 41, 48, 55, 62, 69, 76, 83, 90, 97, 104, 111, 118, 125, 132, 139, 146, 153, 160, 167, 174, 181, 188, 195, 202, 209, 216, 223, 230, 237, 244, 251, 258, 265, 272, 279]\n",
            "Person 7 will get exercises: [7, 14, 21, 28, 35, 42, 49, 56, 63, 70, 77, 84, 91, 98, 105, 112, 119, 126, 133, 140, 147, 154, 161, 168, 175, 182, 189, 196, 203, 210, 217, 224, 231, 238, 245, 252, 259, 266, 273, 280]\n"
          ]
        }
      ]
    },
    {
      "cell_type": "code",
      "source": [
        "#Gruppgifter1_A1:count the number of characters (characterfrequency) in a string.\n",
        "#Sample String :google.com'\n",
        "#Expected Result :{'g': 2, 'o': 3, '!': 1,'e': 1,\": 1,'c': 1,'m': 1}\n",
        "\n",
        "string = input(\"Give one string: \")\n",
        "    # Initialize an empty dictionary to store character counts\n",
        "    for char in string:\n",
        "        #Gruppgifter1_A1:count the number of characters (characterfrequency) in a string.\n",
        "#Sample String :google.com'\n",
        "#Expected Result :{'g': 2, 'o': 3, '!': 1,'e': 1,\": 1,'c': 1,'m': 1}\n",
        "\n",
        "def char_count(string):\n",
        "    # Initialize an empty dictionary to store character counts\n",
        "    count = {}\n",
        "    for char in string:\n",
        "        if char in count:\n",
        "            count[char] += 1  # Increment the count if the character is already in the dictionary\n",
        "        else:\n",
        "            count[char] = 1  # Initialize the count to 1 if it's the first occurrence\n",
        "    return count\n",
        "\n",
        "# Prompt the user to input a string\n",
        "string = input(\"Give one string: \")\n",
        "\n",
        "# Call the char_count function and store the result in a dictionary\n",
        "dict = char_count(string)\n",
        "\n",
        "# Loop through the dictionary and print each character and its count\n",
        "for char, count in dict.items():\n",
        "    print(f\"{char}: {count}\")\n",
        "\n",
        "        if char in count:\n",
        "            count[char] += 1  # Increment the count if the character is already in the dictionary\n",
        "        else:\n",
        "            count[char] = 1  # Initialize the count to 1 if it's the first occurrence\n",
        "    return count\n",
        "\n",
        "# Prompt the user to input a string\n",
        "\n",
        "\n",
        "\n",
        "# Call the char_count function and store the result in a dictionary\n",
        "\n",
        "# Loop through the dictionary and print each character and its count\n",
        "#for char, count in string.items():\n",
        "    #print(f\"{char}: {count}\")\n"
      ],
      "metadata": {
        "colab": {
          "base_uri": "https://localhost:8080/",
          "height": 108
        },
        "id": "MRVGoJ62DeUr",
        "outputId": "ecca49ff-7385-432c-99c3-c28547739940"
      },
      "execution_count": null,
      "outputs": [
        {
          "output_type": "error",
          "ename": "IndentationError",
          "evalue": "unexpected indent (<ipython-input-2-de1c9b468d62>, line 7)",
          "traceback": [
            "\u001b[0;36m  File \u001b[0;32m\"<ipython-input-2-de1c9b468d62>\"\u001b[0;36m, line \u001b[0;32m7\u001b[0m\n\u001b[0;31m    count = ()\u001b[0m\n\u001b[0m    ^\u001b[0m\n\u001b[0;31mIndentationError\u001b[0m\u001b[0;31m:\u001b[0m unexpected indent\n"
          ]
        }
      ]
    },
    {
      "cell_type": "code",
      "source": [
        "original_list=[1,2,3,5,4,1,2,3,5,6]\n",
        "original_list.insert(7,\"I'm insert\\n\")\n",
        "print(original_list)"
      ],
      "metadata": {
        "colab": {
          "base_uri": "https://localhost:8080/"
        },
        "id": "0vyGq07a4DeF",
        "outputId": "77bdcf1b-e8da-4793-85d2-8ce3a4e138c2"
      },
      "execution_count": null,
      "outputs": [
        {
          "output_type": "stream",
          "name": "stdout",
          "text": [
            "[1, 2, 3, 5, 4, 1, 2, \"I'm insert\\n\", 3, 5, 6]\n"
          ]
        }
      ]
    },
    {
      "cell_type": "code",
      "source": [
        "original_list.insert(4,\"I'm insert\\n\")\n",
        "print(original_list)"
      ],
      "metadata": {
        "colab": {
          "base_uri": "https://localhost:8080/"
        },
        "id": "pWLzV_VV5cpi",
        "outputId": "4ce3e822-e9e2-4da9-9ee0-6a5ceea50ead"
      },
      "execution_count": null,
      "outputs": [
        {
          "output_type": "stream",
          "name": "stdout",
          "text": [
            "[1, 2, 3, 5, \"I'm insert\\n\", 4, 1, 2, \"I'm insert\\n\", 3, 5, 6]\n"
          ]
        }
      ]
    },
    {
      "cell_type": "code",
      "source": [
        "original_list.remove(1)\n",
        "print(original_list)"
      ],
      "metadata": {
        "colab": {
          "base_uri": "https://localhost:8080/"
        },
        "id": "Auq118ZU7eD_",
        "outputId": "4fa547f9-8b7f-4f6b-8397-6589c0d46f8d"
      },
      "execution_count": null,
      "outputs": [
        {
          "output_type": "stream",
          "name": "stdout",
          "text": [
            "[2, 3, 5, \"I'm insert\\n\", 4, 2, \"I'm insert\\n\", 3, 5, 6]\n"
          ]
        }
      ]
    },
    {
      "cell_type": "code",
      "source": [
        "original_list.remove(\"I'm insert\\n\")\n",
        "original_list"
      ],
      "metadata": {
        "colab": {
          "base_uri": "https://localhost:8080/",
          "height": 159
        },
        "id": "mJMrhvN17qsk",
        "outputId": "bff41c92-debd-47d3-ffe2-4fbbe3bee97a"
      },
      "execution_count": null,
      "outputs": [
        {
          "output_type": "error",
          "ename": "ValueError",
          "evalue": "list.remove(x): x not in list",
          "traceback": [
            "\u001b[0;31m---------------------------------------------------------------------------\u001b[0m",
            "\u001b[0;31mValueError\u001b[0m                                Traceback (most recent call last)",
            "\u001b[0;32m<ipython-input-11-f6b2564ed068>\u001b[0m in \u001b[0;36m<cell line: 1>\u001b[0;34m()\u001b[0m\n\u001b[0;32m----> 1\u001b[0;31m \u001b[0moriginal_list\u001b[0m\u001b[0;34m.\u001b[0m\u001b[0mremove\u001b[0m\u001b[0;34m(\u001b[0m\u001b[0;34m\"I'm insert\\n\"\u001b[0m\u001b[0;34m)\u001b[0m\u001b[0;34m\u001b[0m\u001b[0;34m\u001b[0m\u001b[0m\n\u001b[0m\u001b[1;32m      2\u001b[0m \u001b[0moriginal_list\u001b[0m\u001b[0;34m\u001b[0m\u001b[0;34m\u001b[0m\u001b[0m\n",
            "\u001b[0;31mValueError\u001b[0m: list.remove(x): x not in list"
          ]
        }
      ]
    },
    {
      "cell_type": "code",
      "source": [
        "## Write python code that read first name and check if first character is vowl\n",
        "# so delete this first character. in case not vowl so we convert it to small letter\n",
        "#input is Ammar, A is vowl letter (AEIOU) so print mmar\n",
        "# input Linus, L is not vowl, so we write linus\n",
        "l = ['Apple', 'Banana', 'Cherry', 'Date', 'Elderberry']\n",
        "vowels = \"AEIOUaeiou\"\n",
        "\n",
        "# Create a new list to store modified items\n",
        "modified_list = []\n",
        "\n",
        "for item in l:\n",
        "    if item[0] in vowels:\n",
        "        # Remove the first character if it's a vowel\n",
        "        modified_item = item[1:]\n",
        "    else:\n",
        "        # Convert the first character to lowercase if it's not a vowel\n",
        "        modified_item = item[0].lower() + item[1:]\n",
        "\n",
        "    # Add the modified item to the new list\n",
        "    modified_list.append(modified_item)\n",
        "\n",
        "print(modified_list)"
      ],
      "metadata": {
        "colab": {
          "base_uri": "https://localhost:8080/"
        },
        "id": "DKMQ8dN1y9o-",
        "outputId": "b3d6614a-5546-4794-ff70-bb4406cfdc17"
      },
      "execution_count": null,
      "outputs": [
        {
          "output_type": "stream",
          "name": "stdout",
          "text": [
            "['pple', 'banana', 'cherry', 'date', 'lderberry']\n"
          ]
        }
      ]
    },
    {
      "cell_type": "code",
      "source": [
        "#1. Write a Python program to sum all the items in a list.\n",
        "list1=[1,2,3,4,5,6,7,8,9,10]\n",
        "sum(list1)\n",
        "my_list = [\n",
        "    {'item': 'apple', 'quantity': 10},\n",
        "    {'item': 'banana', 'quantity': 5},\n",
        "    {'item': 'orange', 'quantity': 8}\n",
        "]\n",
        "sum_all_items = 0\n",
        "for item in my_list:\n",
        "    sum_all_items += item['quantity']\n",
        "print(sum_all_items)\n",
        "\n",
        "print(sum(i['quantity'] for i in my_list))\n"
      ],
      "metadata": {
        "colab": {
          "base_uri": "https://localhost:8080/"
        },
        "id": "m3EQZswq81ja",
        "outputId": "fb2f438e-ded8-4872-8729-063d8fb56639"
      },
      "execution_count": null,
      "outputs": [
        {
          "output_type": "stream",
          "name": "stdout",
          "text": [
            "23\n",
            "23\n"
          ]
        }
      ]
    },
    {
      "cell_type": "code",
      "source": [],
      "metadata": {
        "id": "3fRmcfAqA_Ss"
      },
      "execution_count": null,
      "outputs": []
    },
    {
      "cell_type": "code",
      "source": [
        "#2. Write a Python program to multiply 相乘 all the items in a list.\n",
        "\n",
        "# Import the reduce function from functools module\n",
        "# Import the mul function from the operator module\n",
        "from functools import reduce\n",
        "import operator\n",
        "\n",
        "# Initialize a list of numbers\n",
        "my_list = [1, 2, 3, 4, 5]\n",
        "\n",
        "# Calculate the product of all items in the list manually\n",
        "multi = 1  # Initialize a variable to store the product, starting with 1\n",
        "for i in my_list:  # Iterate over each element in the list\n",
        "    multi *= i  # Multiply the current value of multi by the current element\n",
        "print(multi)  # Print the product of all elements in the list\n",
        "\n",
        "# Calculate the product of all items in the list using reduce and operator.mul\n",
        "# The reduce function applies operator.mul to the elements of the list, accumulating the result\n",
        "print(reduce(operator.mul, my_list))\n",
        "\n",
        "# Create a new list where each element is multiplied by 5\n",
        "# List comprehension is used to generate a new list with each element from the original list multiplied by 5\n",
        "print([i * 5 for i in my_list])"
      ],
      "metadata": {
        "colab": {
          "base_uri": "https://localhost:8080/"
        },
        "id": "ZNNEndV-A5g4",
        "outputId": "529107a2-6b7e-4313-863e-feb2e9b55104"
      },
      "execution_count": null,
      "outputs": [
        {
          "output_type": "stream",
          "name": "stdout",
          "text": [
            "120\n",
            "120\n",
            "[5, 10, 15, 20, 25]\n"
          ]
        }
      ]
    },
    {
      "cell_type": "code",
      "source": [
        "#3. Write a Python program to get the largest number from a list.\n",
        "l=[1,2,3,4,5,6,7,8,9,10]\n",
        "max(l)"
      ],
      "metadata": {
        "id": "VfSzWaAIBA0f",
        "colab": {
          "base_uri": "https://localhost:8080/"
        },
        "outputId": "b6a94a52-428a-40fe-fb62-fd0aa75c8f1e"
      },
      "execution_count": null,
      "outputs": [
        {
          "output_type": "execute_result",
          "data": {
            "text/plain": [
              "10"
            ]
          },
          "metadata": {},
          "execution_count": 23
        }
      ]
    },
    {
      "cell_type": "code",
      "source": [
        "#4. Write a Python program to get the smallest number from a list.\n",
        "l=[1,2,3,4,5,6,7,8,9,10]\n",
        "min(l)"
      ],
      "metadata": {
        "id": "MdQ25cvHVm9o",
        "colab": {
          "base_uri": "https://localhost:8080/"
        },
        "outputId": "9d0d6ac9-9d8b-4b70-8eaf-9ed162bc5818"
      },
      "execution_count": null,
      "outputs": [
        {
          "output_type": "execute_result",
          "data": {
            "text/plain": [
              "1"
            ]
          },
          "metadata": {},
          "execution_count": 24
        }
      ]
    },
    {
      "cell_type": "code",
      "source": [
        "#5. Write a Python program to count the number of strings where the string length is 2 or more and the first\n",
        "#and last character are same from a given list of strings.\n",
        "#Sample List : ['abc', 'xyz', 'aba', '1221']  Expected Result : 2\n",
        "l = ['abc', 'xyz', 'aba', '1221']\n",
        "count = 0\n",
        "for i in l:\n",
        "    if len(i) >= 2 and i[0] == i[-1]:\n",
        "        count += 1\n",
        "        print(i)\n",
        "print(count)"
      ],
      "metadata": {
        "colab": {
          "base_uri": "https://localhost:8080/"
        },
        "id": "s17I72aAVnpA",
        "outputId": "6b871baa-0bee-46b9-ee2a-783e98792a0f"
      },
      "execution_count": null,
      "outputs": [
        {
          "output_type": "stream",
          "name": "stdout",
          "text": [
            "aba\n",
            "1221\n",
            "2\n"
          ]
        }
      ]
    },
    {
      "cell_type": "code",
      "source": [
        "from typing import TYPE_CHECKING\n",
        "#6. Write a Python program to get a list, sorted in increasing order by the last element in each tuple from a given list of non-empty tuples.\n",
        "#Sample List : [(2, 5), (1, 2), (4, 4), (2, 3), (2, 1)]\n",
        "#Expected Result : [(2, 1), (1, 2), (2, 3), (4, 4), (2, 5)]\n",
        "def sort_last(tup):\n",
        "    return sorted(tup, key=lambda x: x[-1])\n",
        "\n",
        "tup = [(2, 5), (1, 2), (4, 4), (2, 3), (2, 1)]\n",
        "print(sort_last(tup))"
      ],
      "metadata": {
        "colab": {
          "base_uri": "https://localhost:8080/"
        },
        "id": "OcyGZon1eB9v",
        "outputId": "1ffc0be1-2e4d-4747-e687-0664fe6f352a"
      },
      "execution_count": null,
      "outputs": [
        {
          "output_type": "stream",
          "name": "stdout",
          "text": [
            "[(2, 1), (1, 2), (2, 3), (4, 4), (2, 5)]\n"
          ]
        }
      ]
    },
    {
      "cell_type": "code",
      "source": [
        "#7. Write a Python program to remove duplicates from a list.\n",
        "# Sample code to remove duplicates\n",
        "my_list = [1, 2, 2, 3, 4, 3, 5, 2, 6, 7, 8, 6, 9, 10]\n",
        "# Remove duplicates while preserving order\n",
        "my_list = list(dict.fromkeys(my_list))\n",
        "# Print the list without duplicates\n",
        "print(my_list)\n"
      ],
      "metadata": {
        "colab": {
          "base_uri": "https://localhost:8080/",
          "height": 211
        },
        "id": "jXMCXn-XeGvj",
        "outputId": "39caa91f-9b65-4576-dd26-1c4c8db5aa68"
      },
      "execution_count": null,
      "outputs": [
        {
          "output_type": "error",
          "ename": "TypeError",
          "evalue": "'list' object is not callable",
          "traceback": [
            "\u001b[0;31m---------------------------------------------------------------------------\u001b[0m",
            "\u001b[0;31mTypeError\u001b[0m                                 Traceback (most recent call last)",
            "\u001b[0;32m<ipython-input-28-c99a69b3b47b>\u001b[0m in \u001b[0;36m<cell line: 5>\u001b[0;34m()\u001b[0m\n\u001b[1;32m      3\u001b[0m \u001b[0mmy_list\u001b[0m \u001b[0;34m=\u001b[0m \u001b[0;34m[\u001b[0m\u001b[0;36m1\u001b[0m\u001b[0;34m,\u001b[0m \u001b[0;36m2\u001b[0m\u001b[0;34m,\u001b[0m \u001b[0;36m2\u001b[0m\u001b[0;34m,\u001b[0m \u001b[0;36m3\u001b[0m\u001b[0;34m,\u001b[0m \u001b[0;36m4\u001b[0m\u001b[0;34m,\u001b[0m \u001b[0;36m3\u001b[0m\u001b[0;34m,\u001b[0m \u001b[0;36m5\u001b[0m\u001b[0;34m,\u001b[0m \u001b[0;36m2\u001b[0m\u001b[0;34m,\u001b[0m \u001b[0;36m6\u001b[0m\u001b[0;34m,\u001b[0m \u001b[0;36m7\u001b[0m\u001b[0;34m,\u001b[0m \u001b[0;36m8\u001b[0m\u001b[0;34m,\u001b[0m \u001b[0;36m6\u001b[0m\u001b[0;34m,\u001b[0m \u001b[0;36m9\u001b[0m\u001b[0;34m,\u001b[0m \u001b[0;36m10\u001b[0m\u001b[0;34m]\u001b[0m\u001b[0;34m\u001b[0m\u001b[0;34m\u001b[0m\u001b[0m\n\u001b[1;32m      4\u001b[0m \u001b[0;31m# Remove duplicates while preserving order\u001b[0m\u001b[0;34m\u001b[0m\u001b[0;34m\u001b[0m\u001b[0m\n\u001b[0;32m----> 5\u001b[0;31m \u001b[0mmy_list\u001b[0m \u001b[0;34m=\u001b[0m \u001b[0mlist\u001b[0m\u001b[0;34m(\u001b[0m\u001b[0mdict\u001b[0m\u001b[0;34m.\u001b[0m\u001b[0mfromkeys\u001b[0m\u001b[0;34m(\u001b[0m\u001b[0mmy_list\u001b[0m\u001b[0;34m)\u001b[0m\u001b[0;34m)\u001b[0m\u001b[0;34m\u001b[0m\u001b[0;34m\u001b[0m\u001b[0m\n\u001b[0m\u001b[1;32m      6\u001b[0m \u001b[0;31m# Print the list without duplicates\u001b[0m\u001b[0;34m\u001b[0m\u001b[0;34m\u001b[0m\u001b[0m\n\u001b[1;32m      7\u001b[0m \u001b[0mprint\u001b[0m\u001b[0;34m(\u001b[0m\u001b[0mmy_list\u001b[0m\u001b[0;34m)\u001b[0m\u001b[0;34m\u001b[0m\u001b[0;34m\u001b[0m\u001b[0m\n",
            "\u001b[0;31mTypeError\u001b[0m: 'list' object is not callable"
          ]
        }
      ]
    },
    {
      "cell_type": "code",
      "source": [
        "#8. Write a Python program to check a list is empty or not.\n",
        "\n",
        "my_list = []\n",
        "#In Python, an empty list ([]) is considered False in a boolean context, so not my_list will be True if my_list is empty.\n",
        "if not my_list:\n",
        "    print(\"The list is empty\")\n",
        "else:\n",
        "    print(\"The list is not empty\")\n",
        "\n",
        "# Check if the list is empty using len()\n",
        "if len(my_list) == 0:\n",
        "    print(\"The list is empty.\")\n",
        "else:\n",
        "    print(\"The list is not empty.\")"
      ],
      "metadata": {
        "id": "lKkS7W2QehBX",
        "colab": {
          "base_uri": "https://localhost:8080/"
        },
        "outputId": "5f673070-713e-4f8d-f321-827b9844eb45"
      },
      "execution_count": null,
      "outputs": [
        {
          "output_type": "stream",
          "name": "stdout",
          "text": [
            "The list is empty\n",
            "The list is empty.\n"
          ]
        }
      ]
    },
    {
      "cell_type": "code",
      "source": [
        "#9. Write a Python program to clone or copy a list.\n",
        "original_list1 = [1, 2, 3, 4, 5]\n",
        "#original_list[:] creates a new list that is a slice of the entire original_list, effectively cloning it.\n",
        "copied_list = original_list1[:]\n",
        "print(\"Original List1:\", original_list1 , \"Copied List:\", copied_list)\n",
        "\n",
        "original_list2 = ['a','b','c','d','e']\n",
        "copied_list = original_list2.copy()\n",
        "print(\"Original List2:\", original_list2 , \"Copied List:\", copied_list)\n"
      ],
      "metadata": {
        "id": "AvReh354ehbu",
        "colab": {
          "base_uri": "https://localhost:8080/"
        },
        "outputId": "7782aaa9-cc3e-4177-8463-b98147d28884"
      },
      "execution_count": null,
      "outputs": [
        {
          "output_type": "stream",
          "name": "stdout",
          "text": [
            "Original List: [1, 2, 3, 4, 5] Copied List: [1, 2, 3, 4, 5]\n",
            "Original List: ['a', 'b', 'c', 'd', 'e'] Copied List: ['a', 'b', 'c', 'd', 'e']\n"
          ]
        }
      ]
    },
    {
      "cell_type": "code",
      "source": [
        "#10. Write a Python program to find the list of words that are longer than n from a given list of words.\n",
        "my_list = ['apple', 'banana', 'cherry', 'date', 'elderberry']\n",
        "n = 5\n",
        "for i in my_list:\n",
        "    if len(i) > n:\n",
        "        print(\"Words longer than\", n, \"characters:\",i)\n",
        "\n",
        "# Find words longer than n using list comprehension\n",
        "long_words = [word for word in my_list if len(word) > n]\n",
        "\n",
        "# Print the result\n",
        "print(\"Words longer than\", n, \"characters:\", long_words)"
      ],
      "metadata": {
        "id": "KZN9p1MPehz5",
        "colab": {
          "base_uri": "https://localhost:8080/"
        },
        "outputId": "a44dce8a-6fd0-4742-e000-f43d8511ab4a"
      },
      "execution_count": null,
      "outputs": [
        {
          "output_type": "stream",
          "name": "stdout",
          "text": [
            "Words longer than 5 characters: banana\n",
            "Words longer than 5 characters: cherry\n",
            "Words longer than 5 characters: elderberry\n",
            "Words longer than 5 characters: ['banana', 'cherry', 'elderberry']\n"
          ]
        }
      ]
    },
    {
      "cell_type": "code",
      "source": [
        "#11. Write a Python function that takes two lists and returns True if they have at least one common member.\n"
      ],
      "metadata": {
        "id": "RnQQ0JraCPpw"
      },
      "execution_count": null,
      "outputs": []
    },
    {
      "cell_type": "code",
      "source": [
        "#12. Write a Python program to print a specified list after removing the 0th, 4th and 5th elements.\n",
        "#Sample List : ['Red', 'Green', 'White', 'Black', 'Pink', 'Yellow']\n",
        "#Expected Output : ['Green', 'White', 'Black']"
      ],
      "metadata": {
        "id": "5pt0MfgJCQCq"
      },
      "execution_count": null,
      "outputs": []
    },
    {
      "cell_type": "code",
      "source": [
        "#13. Write a Python program to generate a 3*4*6 3D array whose each element is *.\n"
      ],
      "metadata": {
        "id": "jN2J-JykCQQL"
      },
      "execution_count": null,
      "outputs": []
    },
    {
      "cell_type": "code",
      "source": [
        "#14. Write a Python program to print the numbers of a specified list after removing even numbers from it.\n"
      ],
      "metadata": {
        "id": "F_W0NsfVCQa1"
      },
      "execution_count": null,
      "outputs": []
    },
    {
      "cell_type": "code",
      "source": [
        "#15. Write a Python program to shuffle and print a specified list.\n"
      ],
      "metadata": {
        "id": "sxql5mAyCQnP"
      },
      "execution_count": null,
      "outputs": []
    },
    {
      "cell_type": "code",
      "source": [
        "#16. Write a Python program to generate and print a list of first and last 5 elements where the values are square of numbers between 1 and 30 (both included).\n"
      ],
      "metadata": {
        "id": "uHcDrpD2CQ0X"
      },
      "execution_count": null,
      "outputs": []
    },
    {
      "cell_type": "code",
      "source": [
        "#17. Write a Python program to generate and print a list except for the first 5 elements,\n",
        "# where the values are square of numbers between 1 and 30 (both included).\n"
      ],
      "metadata": {
        "id": "wpBumFypCRAj"
      },
      "execution_count": null,
      "outputs": []
    },
    {
      "cell_type": "code",
      "source": [
        "#18. Write a Python program to generate all permutations of a list in Python."
      ],
      "metadata": {
        "id": "m_k1RqwBCROx"
      },
      "execution_count": null,
      "outputs": []
    },
    {
      "cell_type": "code",
      "source": [
        "#19. Write a Python program to get the difference between the two lists.\n"
      ],
      "metadata": {
        "id": "bMfIn4awDGew"
      },
      "execution_count": null,
      "outputs": []
    },
    {
      "cell_type": "code",
      "source": [
        "#20. Write a Python program access the index of a list.\n"
      ],
      "metadata": {
        "id": "1D0-Zsq1CRY2"
      },
      "execution_count": null,
      "outputs": []
    },
    {
      "cell_type": "code",
      "source": [
        "#21. Write a Python program to convert a list of characters into a string."
      ],
      "metadata": {
        "id": "u_rdaVEcCRk4"
      },
      "execution_count": null,
      "outputs": []
    },
    {
      "cell_type": "code",
      "source": [
        "#22. Write a Python program to find the index of an item in a specified list.\n"
      ],
      "metadata": {
        "id": "3TZpw7peClz_"
      },
      "execution_count": null,
      "outputs": []
    },
    {
      "cell_type": "code",
      "source": [
        "#23. Write a Python program to flatten a shallow list.\n"
      ],
      "metadata": {
        "id": "XKL8kIEgDXc_"
      },
      "execution_count": null,
      "outputs": []
    },
    {
      "cell_type": "code",
      "source": [
        "#24. Write a Python program to append a list to the second list.\n"
      ],
      "metadata": {
        "id": "fcQRpJSHDXxD"
      },
      "execution_count": null,
      "outputs": []
    },
    {
      "cell_type": "code",
      "source": [
        "#25. Write a Python program to select an item randomly from a list."
      ],
      "metadata": {
        "id": "z-xWsl8JDX88"
      },
      "execution_count": null,
      "outputs": []
    }
  ]
}